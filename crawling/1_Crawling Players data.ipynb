{
 "cells": [
  {
   "cell_type": "markdown",
   "metadata": {},
   "source": [
    "# Crawling player's data"
   ]
  },
  {
   "cell_type": "markdown",
   "metadata": {},
   "source": [
    "1. Data from whoscored (http://www.whoscored.com/)\n",
    "2. Types of data\n",
    "    - League / Team name\n",
    "    - Player Summary\n",
    "    - Player Defensive\n",
    "    - Player Offensive\n",
    "    - Player Passing"
   ]
  },
  {
   "cell_type": "markdown",
   "metadata": {},
   "source": [
    "### import package"
   ]
  },
  {
   "cell_type": "code",
   "execution_count": 2,
   "metadata": {
    "collapsed": true
   },
   "outputs": [],
   "source": [
    "import pandas as pd\n",
    "import time\n",
    "import pickle\n",
    "from selenium import webdriver"
   ]
  },
  {
   "cell_type": "markdown",
   "metadata": {},
   "source": [
    "### 0. create useful function"
   ]
  },
  {
   "cell_type": "code",
   "execution_count": 3,
   "metadata": {
    "collapsed": true
   },
   "outputs": [],
   "source": [
    "def replace_values(df):\n",
    "    \"\"\"\n",
    "    replace dataframe values from \"-\" to 0\n",
    "    \"\"\"\n",
    "    mapping = {'-' : 0}\n",
    "    \n",
    "    replace_dict = {}\n",
    "    \n",
    "    for column in df.columns:\n",
    "        replace_dict[column] = mapping\n",
    "        \n",
    "    return df.replace(replace_dict)"
   ]
  },
  {
   "cell_type": "markdown",
   "metadata": {},
   "source": [
    "### 1. Crawling League Team Data Function"
   ]
  },
  {
   "cell_type": "code",
   "execution_count": 4,
   "metadata": {
    "collapsed": true
   },
   "outputs": [],
   "source": [
    "def crawling_league_teams(team_id, api_delay_term=5):\n",
    "    \"\"\"\n",
    "    cawling league team_id and team name datas\n",
    "    \n",
    "    parameter ---------------------------------------------------------------\n",
    "    team_id : one of you want league team_id & parameter data type int or str\n",
    "    \n",
    "    return ------------------------------------------------------------------\n",
    "    crawling league team_id, team_name datas belong team_id parameter\n",
    "    return pandas dataframe columns=team_id, team_name\n",
    "    \n",
    "    \"\"\"\n",
    "    \n",
    "    # connect webdriver\n",
    "    url = \"https://www.whoscored.com/Teams/\" + str(team_id)\n",
    "    driver =  webdriver.PhantomJS()\n",
    "    driver.get(url)\n",
    "\n",
    "    \n",
    "    # wait get league team datas\n",
    "    time.sleep(api_delay_term) \n",
    "    \n",
    "    # make pandas dataframe\n",
    "    team_df = pd.DataFrame(columns=[\"team_id\",\"team_name\"])\n",
    "    \n",
    "    # get team datas\n",
    "    teams = driver.find_elements_by_css_selector(\"#teams option\")\n",
    "    for team in teams:\n",
    "        team_name = team.text\n",
    "        team_id = team.get_attribute(\"value\").split(\"/\")[2]\n",
    "        team_df.loc[len(team_df)] = {\"team_id\":team_id, \"team_name\":team_name }\n",
    "        \n",
    "    # close webdriver\n",
    "    driver.close()\n",
    "    \n",
    "    return replace_pd(team_df)"
   ]
  },
  {
   "cell_type": "markdown",
   "metadata": {},
   "source": [
    "### 2. Crawling Players Summary Data Function"
   ]
  },
  {
   "cell_type": "code",
   "execution_count": 5,
   "metadata": {
    "collapsed": true
   },
   "outputs": [],
   "source": [
    "def crawling_player_summary(team_id, api_delay_term=5):\n",
    "    \"\"\"\n",
    "    cawling player summary data \n",
    "        \n",
    "    parameter -------------------------------------------------------------------\n",
    "    team_id : one of you want team_id of players & parameter data type int or str\n",
    "    api_dealy_term : if your network speed is slow, you should set bigger number\n",
    "    \n",
    "    return ----------------------------------------------------------------------\n",
    "    pandas dataframe belong player's ability\n",
    "    player_nuber, flag, name, age, position, tall, weight, full_time, half_time\n",
    "    , mins, goals, asists, yel, red, spg, ps, motm, aw, rating\n",
    "    \n",
    "    \"\"\"    \n",
    "    \n",
    "    # connect webdriver\n",
    "    url = \"https://www.whoscored.com/Teams/\" + str(team_id)\n",
    "    driver =  webdriver.PhantomJS()\n",
    "    driver.get(url)\n",
    "\n",
    "    # wait for getting data\n",
    "    time.sleep(api_delay_term)\n",
    "    \n",
    "    # make pandas dataframe\n",
    "    player_summary_df = pd.DataFrame(columns=[\n",
    "            \"player_number\", \"flag\", \"name\", \"age\", \"position\"\n",
    "            , \"tall\", \"weight\", \"full_time\", \"half_time\", \"mins\"\n",
    "            , \"goals\", \"asists\", \"yel\", \"red\", \"spg\", \"ps\", \"motm\"\n",
    "            , \"aw\", \"rating\",\n",
    "        ])\n",
    "    \n",
    "    # get player summay datas\n",
    "    elements = driver.find_elements_by_css_selector(\"#player-table-statistics-body tr\")\n",
    "    for element in elements:\n",
    "        \n",
    "        # split full time games and half time games\n",
    "        games = element.find_elements_by_css_selector(\"td\")[5].text\n",
    "        games = games.split(\"(\")\n",
    "        full_time, half_time = games[0], 0\n",
    "        if len(games) > 1 :\n",
    "            half_time = games[1].replace(\")\",\"\")\n",
    "        else :\n",
    "            half_time = 0\n",
    "        \n",
    "        # player dictionary data\n",
    "        player_dict = { \n",
    "            \"player_number\": element.find_elements_by_css_selector(\"td\")[2].find_elements_by_css_selector(\"a\")[0].get_attribute(\"href\").split(\"/\")[4], \n",
    "            \"flag\": element.find_elements_by_css_selector(\"td\")[1].find_elements_by_css_selector(\"span\")[0].get_attribute(\"class\").split(\"-\")[2],\n",
    "            \"name\": element.find_elements_by_css_selector(\"td\")[2].find_elements_by_css_selector(\"a\")[0].text, \n",
    "            \"age\": element.find_elements_by_css_selector(\"td\")[2].find_elements_by_css_selector(\"span\")[0].text, \n",
    "            \"position\": element.find_elements_by_css_selector(\"td\")[2].find_elements_by_css_selector(\"span\")[1].text[1:], \n",
    "            \"tall\": element.find_elements_by_css_selector(\"td\")[3].text,\n",
    "            \"weight\": element.find_elements_by_css_selector(\"td\")[4].text, \n",
    "            \"full_time\": full_time,\n",
    "            \"half_time\": half_time,\n",
    "            \"mins\": element.find_elements_by_css_selector(\"td\")[6].text,\n",
    "            \"goals\": element.find_elements_by_css_selector(\"td\")[7].text,\n",
    "            \"asists\": element.find_elements_by_css_selector(\"td\")[8].text,\n",
    "            \"yel\": element.find_elements_by_css_selector(\"td\")[9].text,\n",
    "            \"red\": element.find_elements_by_css_selector(\"td\")[10].text,\n",
    "            \"spg\": element.find_elements_by_css_selector(\"td\")[11].text,\n",
    "            \"ps\": element.find_elements_by_css_selector(\"td\")[12].text,\n",
    "            \"aw\": element.find_elements_by_css_selector(\"td\")[13].text,\n",
    "            \"motm\": element.find_elements_by_css_selector(\"td\")[14].text,\n",
    "            \"rating\": element.find_elements_by_css_selector(\"td\")[15].text,\n",
    "        }\n",
    "        \n",
    "        player_summary_df.loc[len(player_summary_df)] = player_dict\n",
    "    \n",
    "    # close webdriver\n",
    "    driver.close()\n",
    "    \n",
    "    return replace_pd(player_summary_df)"
   ]
  },
  {
   "cell_type": "markdown",
   "metadata": {},
   "source": [
    "### 3. Crawling Players Defensive Data Function"
   ]
  },
  {
   "cell_type": "code",
   "execution_count": 6,
   "metadata": {
    "collapsed": true
   },
   "outputs": [],
   "source": [
    "def crawling_player_defensive(team_id, api_delay_term=5):\n",
    "    \"\"\"\n",
    "    cawling player defensive data \n",
    "        \n",
    "    parameter -------------------------------------------------------------------\n",
    "    team_id : one of you want team_id of players & parameter data type int or str\n",
    "    api_dealy_term : if your network speed is slow, you should set bigger number\n",
    "    \n",
    "    return ----------------------------------------------------------------------\n",
    "    pandas dataframe belong player's ability\n",
    "    player_number, tackles, inter, fouls, offsides, clear, drb, blocks, owng\n",
    "    \n",
    "    \"\"\"  \n",
    "\n",
    "    # connect webdriver\n",
    "    url = \"https://www.whoscored.com/Teams/\" + str(team_id)\n",
    "    driver =  webdriver.PhantomJS()\n",
    "    driver.get(url)\n",
    "    \n",
    "    # wait for getting data\n",
    "    time.sleep(api_delay_term)\n",
    "    \n",
    "    # click event for getting defensive data\n",
    "    driver.find_elements_by_css_selector(\"#team-squad-stats-options .in-squad-detailed-view\")[0].find_element_by_css_selector(\"a\").click()\n",
    "    \n",
    "    # wait for getting data\n",
    "    time.sleep(api_delay_term)\n",
    "    \n",
    "    # make pandas dataframe\n",
    "    player_defensive_df = pd.DataFrame(columns=[\n",
    "            \"player_number\", \"tackles\", \"inter\", \"fouls\", \"offsides\", \"clear\", \"drb\", \"blocks\", \"owng\"\n",
    "        ])\n",
    "    \n",
    "    # get player defensive datas\n",
    "    elements = driver.find_elements_by_css_selector(\"#team-squad-stats-defensive #player-table-statistics-body tr\")\n",
    "    for element in elements:\n",
    "       \n",
    "        player_dict = {\n",
    "            \"player_number\": element.find_elements_by_css_selector(\"td\")[2].find_elements_by_css_selector(\"a\")[0].get_attribute(\"href\").split(\"/\")[4], \n",
    "            \"tackles\": element.find_elements_by_css_selector(\"td\")[7].text, \n",
    "            \"inter\": element.find_elements_by_css_selector(\"td\")[8].text, \n",
    "            \"fouls\": element.find_elements_by_css_selector(\"td\")[9].text,\n",
    "            \"offsides\": element.find_elements_by_css_selector(\"td\")[10].text,\n",
    "            \"clear\": element.find_elements_by_css_selector(\"td\")[11].text,\n",
    "            \"drb\": element.find_elements_by_css_selector(\"td\")[12].text,\n",
    "            \"blocks\": element.find_elements_by_css_selector(\"td\")[13].text,\n",
    "            \"owng\": element.find_elements_by_css_selector(\"td\")[14].text,\n",
    "        }\n",
    "        \n",
    "        player_defensive_df.loc[len(player_defensive_df)] = player_dict\n",
    "    \n",
    "    # close webdriver\n",
    "    driver.close()\n",
    "    \n",
    "    return replace_pd(player_defensive_df)"
   ]
  },
  {
   "cell_type": "markdown",
   "metadata": {},
   "source": [
    "### 4. Crawling Players Offensive Data Function "
   ]
  },
  {
   "cell_type": "code",
   "execution_count": 7,
   "metadata": {
    "collapsed": true
   },
   "outputs": [],
   "source": [
    "def crawling_player_offensive(team_id, api_delay_term=5):\n",
    "    \n",
    "    \"\"\"\n",
    "    cawling player defensive data \n",
    "        \n",
    "    parameter -------------------------------------------------------------------\n",
    "    team_id : one of you want team_id of players & parameter data type int or str\n",
    "    api_dealy_term : if your network speed is slow, you should set bigger number\n",
    "    \n",
    "    return ----------------------------------------------------------------------\n",
    "    pandas dataframe belong player's ability\n",
    "    player_number, keyp, fouled, off, disp, unstch\n",
    "    \n",
    "    \"\"\"  \n",
    "\n",
    "    # connect webdriver\n",
    "    url = \"https://www.whoscored.com/Teams/\" + str(team_id)\n",
    "    driver =  webdriver.PhantomJS()\n",
    "    driver.get(url)\n",
    "    \n",
    "    # wait for getting data\n",
    "    time.sleep(api_delay_term)\n",
    "    \n",
    "    # click event for getting data\n",
    "    driver.find_elements_by_css_selector(\"#team-squad-stats-options .in-squad-detailed-view\")[1].find_element_by_css_selector(\"a\").click()\n",
    "    \n",
    "    # wait for getting data\n",
    "    time.sleep(api_delay_term)\n",
    "    \n",
    "    # make pandas dataframe\n",
    "    player_offensive_df = pd.DataFrame(columns=[\"player_number\", \"keyp\", \"fouled\", \"off\", \"disp\", \"unstch\"])\n",
    "    \n",
    "    # get player offensive datas\n",
    "    elements = driver.find_elements_by_css_selector(\"#statistics-table-offensive #player-table-statistics-body tr\")\n",
    "    for element in elements:\n",
    "    \n",
    "        player_dict = {\n",
    "            \"player_number\": element.find_elements_by_css_selector(\"td\")[2].find_elements_by_css_selector(\"a\")[0].get_attribute(\"href\").split(\"/\")[4], \n",
    "            \"keyp\": element.find_elements_by_css_selector(\"td\")[10].text, \n",
    "            \"fouled\": element.find_elements_by_css_selector(\"td\")[12].text, \n",
    "            \"off\": element.find_elements_by_css_selector(\"td\")[13].text,\n",
    "            \"disp\": element.find_elements_by_css_selector(\"td\")[14].text,\n",
    "            \"unstch\": element.find_elements_by_css_selector(\"td\")[15].text,\n",
    "        }\n",
    "        \n",
    "        player_offensive_df.loc[len(player_offensive_df)] = player_dict\n",
    "        \n",
    "    # close webdriver\n",
    "    driver.close()\n",
    "    \n",
    "    return replace_pd(player_offensive_df)"
   ]
  },
  {
   "cell_type": "markdown",
   "metadata": {},
   "source": [
    "### 5. Crawling Players Passing Data Function"
   ]
  },
  {
   "cell_type": "code",
   "execution_count": 9,
   "metadata": {
    "collapsed": false
   },
   "outputs": [],
   "source": [
    "def crawling_player_passing(team_id, api_delay_term=5):\n",
    "    \n",
    "    \"\"\"\n",
    "    cawling player defensive data \n",
    "        \n",
    "    parameter -------------------------------------------------------------------\n",
    "    team_id : one of you want team_id of players & parameter data type int or str\n",
    "    api_dealy_term : if your network speed is slow, you should set bigger number\n",
    "    \n",
    "    return ----------------------------------------------------------------------\n",
    "    pandas dataframe belong player's ability\n",
    "    player_number, avgp, ps, crosses, longb, thrb\n",
    "    \n",
    "    \"\"\" \n",
    "    \n",
    "    # connect webdriver\n",
    "    url = \"https://www.whoscored.com/Teams/\" + str(team_id)\n",
    "    driver =  webdriver.PhantomJS()\n",
    "    driver.get(url)\n",
    "    \n",
    "    # wait for gettig data\n",
    "    time.sleep(api_delay_term)\n",
    "    \n",
    "    # click event for gettig data\n",
    "    driver.find_elements_by_css_selector(\"#team-squad-stats-options .in-squad-detailed-view\")[2].find_element_by_css_selector(\"a\").click()\n",
    "\n",
    "    # wait for gettig data\n",
    "    time.sleep(api_delay_term)\n",
    "    \n",
    "    # make pnadas dateframe\n",
    "    player_passing_df = pd.DataFrame(columns=[\n",
    "            \"player_number\", \"avgp\", \"ps\", \"crosses\", \"longb\", \"thrb\"\n",
    "        ])\n",
    "\n",
    "    # get data\n",
    "    elements = driver.find_elements_by_css_selector(\"#statistics-table-passing #player-table-statistics-body tr\")\n",
    "    for element in elements:\n",
    "       \n",
    "        player_dict = {\n",
    "            \"player_number\": element.find_elements_by_css_selector(\"td\")[2].find_elements_by_css_selector(\"a\")[0].get_attribute(\"href\").split(\"/\")[4], \n",
    "            \"avgp\": element.find_elements_by_css_selector(\"td\")[8].text, \n",
    "            \"ps\": element.find_elements_by_css_selector(\"td\")[9].text, \n",
    "            \"crosses\": element.find_elements_by_css_selector(\"td\")[10].text,\n",
    "            \"longb\": element.find_elements_by_css_selector(\"td\")[11].text,\n",
    "            \"thrb\": element.find_elements_by_css_selector(\"td\")[12].text,\n",
    "        }\n",
    "        \n",
    "        player_passing_df.loc[len(player_passing_df)] = player_dict\n",
    "    \n",
    "    # close webdriver\n",
    "    driver.close()\n",
    "    \n",
    "    return replace_pd(player_passing_df)"
   ]
  },
  {
   "cell_type": "markdown",
   "metadata": {},
   "source": [
    "### 6. Crawling and Save Team Data "
   ]
  },
  {
   "cell_type": "code",
   "execution_count": 10,
   "metadata": {
    "collapsed": true
   },
   "outputs": [],
   "source": [
    "def save_league_teams(league_name, team_id):\n",
    "    \"\"\"\n",
    "    save league team datas team id and team name\n",
    "    you need to make league_name directory\n",
    "    \n",
    "    parameter --------------------------------------------------\n",
    "    league_name : league name have to same league_name directory\n",
    "    team_id : team_id of belong the league\n",
    "    \n",
    "    return -----------------------------------------------------\n",
    "    pandas dataframe : columns are team_id, team_name\n",
    "    \n",
    "    \"\"\"\n",
    "    \n",
    "    league_teams = crawling_league_teams(team_id)\n",
    "    league_teams.to_csv(\"./league/\" + league_name + \".csv\", index=False)\n",
    "    return league_teams"
   ]
  },
  {
   "cell_type": "markdown",
   "metadata": {},
   "source": [
    "### 7. Crawling and Save Players Data "
   ]
  },
  {
   "cell_type": "code",
   "execution_count": 11,
   "metadata": {
    "collapsed": true
   },
   "outputs": [],
   "source": [
    "def make_player_info(team_id, team_name):\n",
    "    \"\"\"\n",
    "    cralwing player data and merge player datas(summary, defensive, offensive, passing)\n",
    "    \n",
    "    parameter ----------------------------------------------\n",
    "    team_id : int or str, you want to get team_id of players\n",
    "    team_name : str, team name of team id\n",
    "    \n",
    "    return -------------------------------------------------\n",
    "    merged player datas\n",
    "    \n",
    "    \"\"\"\n",
    "    \n",
    "    # excute player datas crawling functions \n",
    "    player_summary_df = crawling_player_summary(team_id)\n",
    "    player_defensive_df = crawling_player_defensive(team_id)\n",
    "    player_offensive_df = crawling_player_offensive(team_id)\n",
    "    player_passing_df = crawling_player_passing(team_id)\n",
    "    \n",
    "    # merge player datas\n",
    "    sd = player_summary_df.merge(player_defensive_df, on=\"player_number\")\n",
    "    sdo = sd.merge(player_offensive_df, on=\"player_number\")\n",
    "    merged_data = sdo.merge(player_passing_df, on=\"player_number\")\n",
    "    \n",
    "    # add team name\n",
    "    merged_data[\"team_name\"] = team_name\n",
    "    \n",
    "    return merged_data\n",
    "    \n",
    "\n",
    "def save_player(league):\n",
    "    \"\"\"\n",
    "    make player data and save\n",
    "    \n",
    "    prameter  -----------------------------------------------------\n",
    "    league : you want to save league name of players\n",
    "    \n",
    "    \"\"\"\n",
    "    \n",
    "    # get league team_id team_name dataframe\n",
    "    league_team_df = pd.read_csv(\"./league/\" + league + \".csv\")\n",
    "    \n",
    "    # get palyer dataframe function\n",
    "    def get_player_df(league, team_id, team_name):\n",
    "        players_df = make_player_info(team_id, team_name)\n",
    "        players_df.to_csv(\"./player/\" + league + \"/\" + team_name + \".csv\")\n",
    "        return players_df\n",
    "    \n",
    "    # for one of league teams\n",
    "    for idx, row in league_team_df.iterrows():\n",
    "        try_again_num = 0\n",
    "        print(\"Make Player {0} Start.\".format(row.team_name))\n",
    "\n",
    "        players_df = []\n",
    "        \n",
    "        # there is no player data, try crawling more 3 times\n",
    "        while len(players_df) == 0 and try_again_num < 3:\n",
    "            if try_again_num > 0:\n",
    "                print(\"Make Player Try Again!\")\n",
    "            try_again_num += 1\n",
    "            players_df = get_player_df(league, row.team_id, row.team_name)\n",
    "            \n",
    "        print(\"The number of saved players : {0}\".format(len(players_df)))\n",
    "        print(\"Make Player {0} Done\".format(row.team_name))\n",
    "        print(\"-\" * 35)    \n",
    "        \n",
    "    print(league + \" Save Players Done!\")"
   ]
  },
  {
   "cell_type": "markdown",
   "metadata": {},
   "source": [
    "### 8. Merge CSV files "
   ]
  },
  {
   "cell_type": "code",
   "execution_count": 12,
   "metadata": {
    "collapsed": true
   },
   "outputs": [],
   "source": [
    "# merge_csv files in the path to new_file\n",
    "def concat_csv(path, new_file_name):\n",
    "    path = path\n",
    "    allfiles = glob.glob(os.path.join(path + \"*.csv\"))\n",
    "    frame = pd.DataFrame()\n",
    "    list_ = []\n",
    "    for file_ in allfiles:\n",
    "        df = pd.read_csv(file_, index_col=None, header=0)\n",
    "        list_.append(df)\n",
    "        \n",
    "    concat_df = pd.concat(list_, ignore_index=True)\n",
    "    concat_df.to_csv(new_file_name)\n",
    "    print(\"success\")"
   ]
  },
  {
   "cell_type": "code",
   "execution_count": null,
   "metadata": {
    "collapsed": true
   },
   "outputs": [],
   "source": []
  }
 ],
 "metadata": {
  "kernelspec": {
   "display_name": "Python 3",
   "language": "python",
   "name": "python3"
  },
  "language_info": {
   "codemirror_mode": {
    "name": "ipython",
    "version": 3
   },
   "file_extension": ".py",
   "mimetype": "text/x-python",
   "name": "python",
   "nbconvert_exporter": "python",
   "pygments_lexer": "ipython3",
   "version": "3.5.1"
  }
 },
 "nbformat": 4,
 "nbformat_minor": 0
}
