{
 "cells": [
  {
   "cell_type": "markdown",
   "metadata": {},
   "source": [
    "# Goalkeeper OLS"
   ]
  },
  {
   "cell_type": "markdown",
   "metadata": {},
   "source": [
    "### Import Package"
   ]
  },
  {
   "cell_type": "code",
   "execution_count": 1,
   "metadata": {
    "collapsed": true
   },
   "outputs": [],
   "source": [
    "%matplotlib inline\n",
    "%config InlineBackend.figure_formats = {'png', 'retina'}\n",
    "\n",
    "import pandas as pd\n",
    "import numpy as np\n",
    "import statsmodels.api as sm\n",
    "import seaborn as sns\n",
    "import MySQLdb\n",
    "\n",
    "from sklearn.preprocessing import StandardScaler\n",
    "from sklearn.linear_model import LinearRegression\n",
    "from sklearn.cross_validation import cross_val_score\n"
   ]
  },
  {
   "cell_type": "markdown",
   "metadata": {},
   "source": [
    "### Connect DB & Get Goalkeeper Player Data"
   ]
  },
  {
   "cell_type": "code",
   "execution_count": 2,
   "metadata": {
    "collapsed": false
   },
   "outputs": [
    {
     "data": {
      "text/plain": [
       "289"
      ]
     },
     "execution_count": 2,
     "metadata": {},
     "output_type": "execute_result"
    }
   ],
   "source": [
    "db = MySQLdb.connect(\n",
    "    \"db.fastcamp.us\",\n",
    "    \"root\",\n",
    "    \"dkstncks\",\n",
    "    \"football\",\n",
    "    charset='utf8',\n",
    ")\n",
    "\n",
    "def make_query(position):\n",
    "    \"\"\"\n",
    "    \n",
    "    parameter------------\n",
    "    position : M, D, F, G\n",
    "    \n",
    "    return---------------\n",
    "    SQL_QUERY String\n",
    "    \n",
    "    \"\"\"\n",
    "    SQL_QUERY = \"\"\"\n",
    "        SELECT \n",
    "            age, tall, weight, apps_start, apps_sub, mins, goals, assists, yel, red\n",
    "            , spg, ps_x, motm, aw, tackles, inter, fouls, offsides, clear, drb, blocks\n",
    "            , owng, keyp_x, fouled, off, disp, unstch, avgp, ps_y, rating\n",
    "        FROM player\n",
    "        WHERE position like \"%{position}%\"\n",
    "        ;\n",
    "    \"\"\".format(position=position)\n",
    "    \n",
    "    return SQL_QUERY\n",
    "\n",
    "# goalkeeper\n",
    "SQL_QUERY = make_query(\"G\")\n",
    "goalkeeper_df = pd.read_sql(SQL_QUERY, db)\n",
    "\n",
    "len(goalkeeper_df)"
   ]
  },
  {
   "cell_type": "markdown",
   "metadata": {},
   "source": [
    "### Scaling "
   ]
  },
  {
   "cell_type": "code",
   "execution_count": 3,
   "metadata": {
    "collapsed": false
   },
   "outputs": [
    {
     "data": {
      "text/html": [
       "<div>\n",
       "<table border=\"1\" class=\"dataframe\">\n",
       "  <thead>\n",
       "    <tr style=\"text-align: right;\">\n",
       "      <th></th>\n",
       "      <th>age</th>\n",
       "      <th>tall</th>\n",
       "      <th>weight</th>\n",
       "      <th>apps_start</th>\n",
       "      <th>apps_sub</th>\n",
       "      <th>mins</th>\n",
       "      <th>goals</th>\n",
       "      <th>assists</th>\n",
       "      <th>yel</th>\n",
       "      <th>red</th>\n",
       "      <th>...</th>\n",
       "      <th>blocks</th>\n",
       "      <th>owng</th>\n",
       "      <th>keyp_x</th>\n",
       "      <th>fouled</th>\n",
       "      <th>off</th>\n",
       "      <th>disp</th>\n",
       "      <th>unstch</th>\n",
       "      <th>avgp</th>\n",
       "      <th>ps_y</th>\n",
       "      <th>rating</th>\n",
       "    </tr>\n",
       "  </thead>\n",
       "  <tbody>\n",
       "    <tr>\n",
       "      <th>0</th>\n",
       "      <td>7.432029</td>\n",
       "      <td>15.948156</td>\n",
       "      <td>11.867021</td>\n",
       "      <td>2.703886</td>\n",
       "      <td>0.000000</td>\n",
       "      <td>2.646419</td>\n",
       "      <td>0.0</td>\n",
       "      <td>0.0</td>\n",
       "      <td>0.816273</td>\n",
       "      <td>3.232331</td>\n",
       "      <td>...</td>\n",
       "      <td>0.0</td>\n",
       "      <td>0.0</td>\n",
       "      <td>1.329329</td>\n",
       "      <td>0.678815</td>\n",
       "      <td>0.0</td>\n",
       "      <td>0.0</td>\n",
       "      <td>0.000000</td>\n",
       "      <td>4.708980</td>\n",
       "      <td>3.971232</td>\n",
       "      <td>6.62</td>\n",
       "    </tr>\n",
       "    <tr>\n",
       "      <th>1</th>\n",
       "      <td>5.945623</td>\n",
       "      <td>15.614164</td>\n",
       "      <td>12.139826</td>\n",
       "      <td>0.073078</td>\n",
       "      <td>2.104282</td>\n",
       "      <td>0.141947</td>\n",
       "      <td>0.0</td>\n",
       "      <td>0.0</td>\n",
       "      <td>0.000000</td>\n",
       "      <td>0.000000</td>\n",
       "      <td>...</td>\n",
       "      <td>0.0</td>\n",
       "      <td>0.0</td>\n",
       "      <td>0.000000</td>\n",
       "      <td>0.000000</td>\n",
       "      <td>0.0</td>\n",
       "      <td>0.0</td>\n",
       "      <td>0.000000</td>\n",
       "      <td>5.616214</td>\n",
       "      <td>3.558452</td>\n",
       "      <td>5.80</td>\n",
       "    </tr>\n",
       "    <tr>\n",
       "      <th>2</th>\n",
       "      <td>4.883905</td>\n",
       "      <td>15.697662</td>\n",
       "      <td>11.321411</td>\n",
       "      <td>2.776964</td>\n",
       "      <td>0.000000</td>\n",
       "      <td>2.789998</td>\n",
       "      <td>0.0</td>\n",
       "      <td>0.0</td>\n",
       "      <td>0.000000</td>\n",
       "      <td>0.000000</td>\n",
       "      <td>...</td>\n",
       "      <td>0.0</td>\n",
       "      <td>0.0</td>\n",
       "      <td>0.000000</td>\n",
       "      <td>0.678815</td>\n",
       "      <td>0.0</td>\n",
       "      <td>0.0</td>\n",
       "      <td>1.120947</td>\n",
       "      <td>2.692903</td>\n",
       "      <td>3.316477</td>\n",
       "      <td>6.83</td>\n",
       "    </tr>\n",
       "    <tr>\n",
       "      <th>3</th>\n",
       "      <td>7.007342</td>\n",
       "      <td>15.363669</td>\n",
       "      <td>10.912203</td>\n",
       "      <td>2.338496</td>\n",
       "      <td>0.000000</td>\n",
       "      <td>2.347841</td>\n",
       "      <td>0.0</td>\n",
       "      <td>0.0</td>\n",
       "      <td>0.000000</td>\n",
       "      <td>0.000000</td>\n",
       "      <td>...</td>\n",
       "      <td>0.0</td>\n",
       "      <td>0.0</td>\n",
       "      <td>0.000000</td>\n",
       "      <td>0.000000</td>\n",
       "      <td>0.0</td>\n",
       "      <td>0.0</td>\n",
       "      <td>0.000000</td>\n",
       "      <td>3.844947</td>\n",
       "      <td>5.999550</td>\n",
       "      <td>6.92</td>\n",
       "    </tr>\n",
       "    <tr>\n",
       "      <th>4</th>\n",
       "      <td>5.096249</td>\n",
       "      <td>15.614164</td>\n",
       "      <td>11.594216</td>\n",
       "      <td>0.438468</td>\n",
       "      <td>2.104282</td>\n",
       "      <td>0.442158</td>\n",
       "      <td>0.0</td>\n",
       "      <td>0.0</td>\n",
       "      <td>0.000000</td>\n",
       "      <td>0.000000</td>\n",
       "      <td>...</td>\n",
       "      <td>0.0</td>\n",
       "      <td>0.0</td>\n",
       "      <td>1.329329</td>\n",
       "      <td>0.000000</td>\n",
       "      <td>0.0</td>\n",
       "      <td>0.0</td>\n",
       "      <td>0.000000</td>\n",
       "      <td>3.110519</td>\n",
       "      <td>5.935498</td>\n",
       "      <td>6.48</td>\n",
       "    </tr>\n",
       "  </tbody>\n",
       "</table>\n",
       "<p>5 rows × 30 columns</p>\n",
       "</div>"
      ],
      "text/plain": [
       "        age       tall     weight  apps_start  apps_sub      mins  goals  \\\n",
       "0  7.432029  15.948156  11.867021    2.703886  0.000000  2.646419    0.0   \n",
       "1  5.945623  15.614164  12.139826    0.073078  2.104282  0.141947    0.0   \n",
       "2  4.883905  15.697662  11.321411    2.776964  0.000000  2.789998    0.0   \n",
       "3  7.007342  15.363669  10.912203    2.338496  0.000000  2.347841    0.0   \n",
       "4  5.096249  15.614164  11.594216    0.438468  2.104282  0.442158    0.0   \n",
       "\n",
       "   assists       yel       red   ...    blocks  owng    keyp_x    fouled  off  \\\n",
       "0      0.0  0.816273  3.232331   ...       0.0   0.0  1.329329  0.678815  0.0   \n",
       "1      0.0  0.000000  0.000000   ...       0.0   0.0  0.000000  0.000000  0.0   \n",
       "2      0.0  0.000000  0.000000   ...       0.0   0.0  0.000000  0.678815  0.0   \n",
       "3      0.0  0.000000  0.000000   ...       0.0   0.0  0.000000  0.000000  0.0   \n",
       "4      0.0  0.000000  0.000000   ...       0.0   0.0  1.329329  0.000000  0.0   \n",
       "\n",
       "   disp    unstch      avgp      ps_y  rating  \n",
       "0   0.0  0.000000  4.708980  3.971232    6.62  \n",
       "1   0.0  0.000000  5.616214  3.558452    5.80  \n",
       "2   0.0  1.120947  2.692903  3.316477    6.83  \n",
       "3   0.0  0.000000  3.844947  5.999550    6.92  \n",
       "4   0.0  0.000000  3.110519  5.935498    6.48  \n",
       "\n",
       "[5 rows x 30 columns]"
      ]
     },
     "execution_count": 3,
     "metadata": {},
     "output_type": "execute_result"
    }
   ],
   "source": [
    "X = goalkeeper_df.ix[:,:-1]\n",
    "scaler = StandardScaler(with_mean=False)\n",
    "X_scaled = scaler.fit_transform(X)\n",
    "\n",
    "dfX0 = pd.DataFrame(X_scaled, columns=X.columns)\n",
    "dfX = sm.add_constant(dfX0)\n",
    "dfy = pd.DataFrame(goalkeeper_df.ix[:,-1], columns=[\"rating\"])\n",
    "g_df = pd.concat([dfX, dfy], axis=1)\n",
    "g_df.head()"
   ]
  },
  {
   "cell_type": "markdown",
   "metadata": {},
   "source": [
    "### Summary OLS "
   ]
  },
  {
   "cell_type": "code",
   "execution_count": 4,
   "metadata": {
    "collapsed": false
   },
   "outputs": [
    {
     "name": "stdout",
     "output_type": "stream",
     "text": [
      "                            OLS Regression Results                            \n",
      "==============================================================================\n",
      "Dep. Variable:                 rating   R-squared:                       0.995\n",
      "Model:                            OLS   Adj. R-squared:                  0.994\n",
      "Method:                 Least Squares   F-statistic:                     2027.\n",
      "Date:                Thu, 30 Jun 2016   Prob (F-statistic):          5.85e-286\n",
      "Time:                        12:27:35   Log-Likelihood:                -197.13\n",
      "No. Observations:                 289   AIC:                             444.3\n",
      "Df Residuals:                     264   BIC:                             535.9\n",
      "Df Model:                          25                                         \n",
      "Covariance Type:            nonrobust                                         \n",
      "==============================================================================\n",
      "                 coef    std err          t      P>|t|      [95.0% Conf. Int.]\n",
      "------------------------------------------------------------------------------\n",
      "age            0.0893      0.031      2.919      0.004         0.029     0.150\n",
      "tall           0.3709      0.038      9.836      0.000         0.297     0.445\n",
      "weight        -0.0829      0.051     -1.639      0.102        -0.183     0.017\n",
      "apps_start    -0.4496      1.674     -0.269      0.788        -3.746     2.847\n",
      "apps_sub       0.0420      0.042      1.009      0.314        -0.040     0.124\n",
      "mins           0.4503      1.667      0.270      0.787        -2.833     3.733\n",
      "goals         -0.0014      0.033     -0.043      0.966        -0.067     0.064\n",
      "assists       -0.0067      0.031     -0.218      0.828        -0.067     0.054\n",
      "yel           -0.0371      0.038     -0.980      0.328        -0.112     0.037\n",
      "red           -0.0309      0.038     -0.813      0.417        -0.106     0.044\n",
      "spg           -0.0048      0.034     -0.143      0.886        -0.071     0.062\n",
      "ps_x           0.0620      0.016      3.998      0.000         0.031     0.093\n",
      "motm           0.0585      0.036      1.626      0.105        -0.012     0.129\n",
      "aw             0.1233      0.035      3.531      0.000         0.055     0.192\n",
      "tackles       -0.0597      0.031     -1.924      0.055        -0.121     0.001\n",
      "inter          0.0159      0.030      0.525      0.600        -0.044     0.075\n",
      "fouls         -0.0102      0.033     -0.305      0.760        -0.076     0.056\n",
      "offsides    4.424e-17   1.59e-17      2.786      0.006       1.3e-17  7.55e-17\n",
      "clear          0.1396      0.033      4.222      0.000         0.075     0.205\n",
      "drb           -0.0764      0.030     -2.511      0.013        -0.136    -0.016\n",
      "blocks     -2.862e-18   6.24e-18     -0.459      0.647     -1.51e-17  9.42e-18\n",
      "owng          -0.0290      0.030     -0.969      0.334        -0.088     0.030\n",
      "keyp_x        -0.0113      0.031     -0.362      0.718        -0.073     0.050\n",
      "fouled        -0.0272      0.035     -0.784      0.434        -0.096     0.041\n",
      "off         1.391e-17   7.12e-18      1.953      0.052     -1.11e-19  2.79e-17\n",
      "disp          -0.0310      0.031     -1.012      0.313        -0.091     0.029\n",
      "unstch        -0.0004      0.031     -0.013      0.990        -0.060     0.060\n",
      "avgp           0.1137      0.035      3.212      0.001         0.044     0.183\n",
      "ps_y           0.0620      0.016      3.998      0.000         0.031     0.093\n",
      "==============================================================================\n",
      "Omnibus:                      288.295   Durbin-Watson:                   2.005\n",
      "Prob(Omnibus):                  0.000   Jarque-Bera (JB):            17045.089\n",
      "Skew:                           3.828   Prob(JB):                         0.00\n",
      "Kurtosis:                      39.836   Cond. No.                     9.51e+15\n",
      "==============================================================================\n",
      "\n",
      "Warnings:\n",
      "[1] Standard Errors assume that the covariance matrix of the errors is correctly specified.\n",
      "[2] The smallest eigenvalue is 1.49e-27. This might indicate that there are\n",
      "strong multicollinearity problems or that the design matrix is singular.\n"
     ]
    }
   ],
   "source": [
    "model = sm.OLS(g_df.ix[:, -1], g_df.ix[:, :-1])\n",
    "result = model.fit()\n",
    "print(result.summary())"
   ]
  },
  {
   "cell_type": "markdown",
   "metadata": {},
   "source": [
    "### Find Proper Model"
   ]
  },
  {
   "cell_type": "code",
   "execution_count": 5,
   "metadata": {
    "collapsed": false
   },
   "outputs": [
    {
     "name": "stdout",
     "output_type": "stream",
     "text": [
      "                            OLS Regression Results                            \n",
      "==============================================================================\n",
      "Dep. Variable:                 rating   R-squared:                       0.994\n",
      "Model:                            OLS   Adj. R-squared:                  0.994\n",
      "Method:                 Least Squares   F-statistic:                     7263.\n",
      "Date:                Thu, 30 Jun 2016   Prob (F-statistic):          2.67e-314\n",
      "Time:                        12:28:03   Log-Likelihood:                -206.16\n",
      "No. Observations:                 289   AIC:                             426.3\n",
      "Df Residuals:                     282   BIC:                             452.0\n",
      "Df Model:                           7                                         \n",
      "Covariance Type:            nonrobust                                         \n",
      "==============================================================================\n",
      "                 coef    std err          t      P>|t|      [95.0% Conf. Int.]\n",
      "------------------------------------------------------------------------------\n",
      "age            0.0814      0.029      2.810      0.005         0.024     0.138\n",
      "tall           0.3138      0.013     23.589      0.000         0.288     0.340\n",
      "ps_x           0.0688      0.015      4.621      0.000         0.039     0.098\n",
      "aw             0.1032      0.030      3.404      0.001         0.044     0.163\n",
      "offsides    3.299e-17   6.67e-18      4.947      0.000      1.99e-17  4.61e-17\n",
      "clear          0.1396      0.032      4.423      0.000         0.077     0.202\n",
      "drb           -0.0787      0.030     -2.638      0.009        -0.137    -0.020\n",
      "avgp           0.0997      0.032      3.125      0.002         0.037     0.163\n",
      "ps_y           0.0688      0.015      4.621      0.000         0.039     0.098\n",
      "==============================================================================\n",
      "Omnibus:                      289.555   Durbin-Watson:                   1.992\n",
      "Prob(Omnibus):                  0.000   Jarque-Bera (JB):            17990.621\n",
      "Skew:                           3.835   Prob(JB):                         0.00\n",
      "Kurtosis:                      40.884   Cond. No.                     5.11e+18\n",
      "==============================================================================\n",
      "\n",
      "Warnings:\n",
      "[1] Standard Errors assume that the covariance matrix of the errors is correctly specified.\n",
      "[2] The smallest eigenvalue is 3.67e-33. This might indicate that there are\n",
      "strong multicollinearity problems or that the design matrix is singular.\n"
     ]
    }
   ],
   "source": [
    "# remove features\n",
    "remove_column_list = [\n",
    "    \"weight\", \"apps_start\", \"apps_sub\", \"mins\", \"goals\", \"assists\", \"yel\", \"red\", \"spg\", \"motm\"\n",
    "    , \"tackles\",\"inter\", \"fouls\", \"blocks\", \"owng\", \"keyp_x\", \"fouled\", \"off\", \"disp\", \"unstch\"\n",
    "]\n",
    "removed_g_df = g_df.drop(remove_column_list, axis=1) \n",
    "\n",
    "model = sm.OLS(removed_g_df.ix[:, -1], removed_g_df.ix[:, :-1])\n",
    "result = model.fit()\n",
    "print(result.summary())"
   ]
  },
  {
   "cell_type": "markdown",
   "metadata": {},
   "source": [
    "### ANOVA "
   ]
  },
  {
   "cell_type": "code",
   "execution_count": 6,
   "metadata": {
    "collapsed": false
   },
   "outputs": [
    {
     "data": {
      "text/html": [
       "<div>\n",
       "<table border=\"1\" class=\"dataframe\">\n",
       "  <thead>\n",
       "    <tr style=\"text-align: right;\">\n",
       "      <th></th>\n",
       "      <th>df</th>\n",
       "      <th>sum_sq</th>\n",
       "      <th>mean_sq</th>\n",
       "      <th>F</th>\n",
       "      <th>PR(&gt;F)</th>\n",
       "    </tr>\n",
       "  </thead>\n",
       "  <tbody>\n",
       "    <tr>\n",
       "      <th>age</th>\n",
       "      <td>1.0</td>\n",
       "      <td>0.000003</td>\n",
       "      <td>0.000003</td>\n",
       "      <td>0.000022</td>\n",
       "      <td>0.996227</td>\n",
       "    </tr>\n",
       "    <tr>\n",
       "      <th>tall</th>\n",
       "      <td>1.0</td>\n",
       "      <td>0.234744</td>\n",
       "      <td>0.234744</td>\n",
       "      <td>1.853932</td>\n",
       "      <td>0.174417</td>\n",
       "    </tr>\n",
       "    <tr>\n",
       "      <th>ps_x</th>\n",
       "      <td>1.0</td>\n",
       "      <td>0.998707</td>\n",
       "      <td>0.998707</td>\n",
       "      <td>7.887450</td>\n",
       "      <td>0.005327</td>\n",
       "    </tr>\n",
       "    <tr>\n",
       "      <th>aw</th>\n",
       "      <td>1.0</td>\n",
       "      <td>1.994044</td>\n",
       "      <td>1.994044</td>\n",
       "      <td>15.748282</td>\n",
       "      <td>0.000092</td>\n",
       "    </tr>\n",
       "    <tr>\n",
       "      <th>offsides</th>\n",
       "      <td>1.0</td>\n",
       "      <td>0.036328</td>\n",
       "      <td>0.036328</td>\n",
       "      <td>0.286909</td>\n",
       "      <td>0.592632</td>\n",
       "    </tr>\n",
       "    <tr>\n",
       "      <th>clear</th>\n",
       "      <td>1.0</td>\n",
       "      <td>1.943786</td>\n",
       "      <td>1.943786</td>\n",
       "      <td>15.351360</td>\n",
       "      <td>0.000112</td>\n",
       "    </tr>\n",
       "    <tr>\n",
       "      <th>drb</th>\n",
       "      <td>1.0</td>\n",
       "      <td>0.776576</td>\n",
       "      <td>0.776576</td>\n",
       "      <td>6.133133</td>\n",
       "      <td>0.013856</td>\n",
       "    </tr>\n",
       "    <tr>\n",
       "      <th>avgp</th>\n",
       "      <td>1.0</td>\n",
       "      <td>0.973691</td>\n",
       "      <td>0.973691</td>\n",
       "      <td>7.689884</td>\n",
       "      <td>0.005925</td>\n",
       "    </tr>\n",
       "    <tr>\n",
       "      <th>ps_y</th>\n",
       "      <td>1.0</td>\n",
       "      <td>0.009424</td>\n",
       "      <td>0.009424</td>\n",
       "      <td>0.074430</td>\n",
       "      <td>0.785193</td>\n",
       "    </tr>\n",
       "    <tr>\n",
       "      <th>Residual</th>\n",
       "      <td>281.0</td>\n",
       "      <td>35.580157</td>\n",
       "      <td>0.126620</td>\n",
       "      <td>NaN</td>\n",
       "      <td>NaN</td>\n",
       "    </tr>\n",
       "  </tbody>\n",
       "</table>\n",
       "</div>"
      ],
      "text/plain": [
       "             df     sum_sq   mean_sq          F    PR(>F)\n",
       "age         1.0   0.000003  0.000003   0.000022  0.996227\n",
       "tall        1.0   0.234744  0.234744   1.853932  0.174417\n",
       "ps_x        1.0   0.998707  0.998707   7.887450  0.005327\n",
       "aw          1.0   1.994044  1.994044  15.748282  0.000092\n",
       "offsides    1.0   0.036328  0.036328   0.286909  0.592632\n",
       "clear       1.0   1.943786  1.943786  15.351360  0.000112\n",
       "drb         1.0   0.776576  0.776576   6.133133  0.013856\n",
       "avgp        1.0   0.973691  0.973691   7.689884  0.005925\n",
       "ps_y        1.0   0.009424  0.009424   0.074430  0.785193\n",
       "Residual  281.0  35.580157  0.126620        NaN       NaN"
      ]
     },
     "execution_count": 6,
     "metadata": {},
     "output_type": "execute_result"
    }
   ],
   "source": [
    "formula_str = \"\"\"\n",
    "rating ~ age + tall + ps_x + aw + offsides + clear + drb +  avgp + ps_y\n",
    "\"\"\"\n",
    "\n",
    "model = sm.OLS.from_formula(formula_str, data=removed_g_df)\n",
    "result = model.fit()\n",
    "table_anova = sm.stats.anova_lm(result)\n",
    "table_anova"
   ]
  },
  {
   "cell_type": "code",
   "execution_count": 7,
   "metadata": {
    "collapsed": false
   },
   "outputs": [
    {
     "name": "stdout",
     "output_type": "stream",
     "text": [
      "                            OLS Regression Results                            \n",
      "==============================================================================\n",
      "Dep. Variable:                 rating   R-squared:                       0.994\n",
      "Model:                            OLS   Adj. R-squared:                  0.994\n",
      "Method:                 Least Squares   F-statistic:                     8271.\n",
      "Date:                Thu, 30 Jun 2016   Prob (F-statistic):          1.38e-314\n",
      "Time:                        12:28:30   Log-Likelihood:                -210.15\n",
      "No. Observations:                 289   AIC:                             432.3\n",
      "Df Residuals:                     283   BIC:                             454.3\n",
      "Df Model:                           6                                         \n",
      "Covariance Type:            nonrobust                                         \n",
      "==============================================================================\n",
      "                 coef    std err          t      P>|t|      [95.0% Conf. Int.]\n",
      "------------------------------------------------------------------------------\n",
      "tall           0.3411      0.009     37.102      0.000         0.323     0.359\n",
      "ps_x           0.1426      0.030      4.741      0.000         0.083     0.202\n",
      "aw             0.1071      0.031      3.495      0.001         0.047     0.167\n",
      "clear          0.1424      0.032      4.459      0.000         0.080     0.205\n",
      "drb           -0.0727      0.030     -2.417      0.016        -0.132    -0.013\n",
      "avgp           0.1075      0.032      3.342      0.001         0.044     0.171\n",
      "==============================================================================\n",
      "Omnibus:                      309.888   Durbin-Watson:                   1.937\n",
      "Prob(Omnibus):                  0.000   Jarque-Bera (JB):            23372.669\n",
      "Skew:                           4.230   Prob(JB):                         0.00\n",
      "Kurtosis:                      46.237   Cond. No.                         22.0\n",
      "==============================================================================\n",
      "\n",
      "Warnings:\n",
      "[1] Standard Errors assume that the covariance matrix of the errors is correctly specified.\n"
     ]
    }
   ],
   "source": [
    "# remove feature 2\n",
    "remove_column_list = [\n",
    "    \"age\", \"offsides\", \"ps_y\"\n",
    "]\n",
    "removed2_g_df = removed_g_df.drop(remove_column_list, axis=1) \n",
    "\n",
    "model = sm.OLS(removed2_g_df.ix[:, -1], removed2_g_df.ix[:, :-1])\n",
    "result = model.fit()\n",
    "print(result.summary())"
   ]
  },
  {
   "cell_type": "markdown",
   "metadata": {},
   "source": [
    "### TEST Predict"
   ]
  },
  {
   "cell_type": "code",
   "execution_count": 8,
   "metadata": {
    "collapsed": false
   },
   "outputs": [
    {
     "name": "stderr",
     "output_type": "stream",
     "text": [
      "/Users/Cho/.pyenv/versions/3.5.1/envs/dss/lib/python3.5/site-packages/scipy/linalg/basic.py:884: RuntimeWarning: internal gelsd driver lwork query error, required iwork dimension not returned. This is likely the result of LAPACK bug 0038, fixed in LAPACK 3.2.2 (released July 21, 2010). Falling back to 'gelss' driver.\n",
      "  warnings.warn(mesg, RuntimeWarning)\n"
     ]
    },
    {
     "data": {
      "text/plain": [
       "LinearRegression(copy_X=True, fit_intercept=True, n_jobs=1, normalize=False)"
      ]
     },
     "execution_count": 8,
     "metadata": {},
     "output_type": "execute_result"
    }
   ],
   "source": [
    "from sklearn.linear_model import LinearRegression\n",
    "model = LinearRegression()\n",
    "model.fit(removed2_g_df.ix[:, :-1], removed2_g_df.ix[:, -1])"
   ]
  },
  {
   "cell_type": "code",
   "execution_count": 9,
   "metadata": {
    "collapsed": true
   },
   "outputs": [],
   "source": [
    "w = model.coef_[1:]"
   ]
  },
  {
   "cell_type": "code",
   "execution_count": 10,
   "metadata": {
    "collapsed": false
   },
   "outputs": [
    {
     "name": "stdout",
     "output_type": "stream",
     "text": [
      "tall      14.946178\n",
      "ps_x       3.800427\n",
      "aw         1.366757\n",
      "clear      1.558145\n",
      "drb        0.818273\n",
      "avgp       3.902549\n",
      "rating     6.480000\n",
      "Name: 5, dtype: float64\n",
      "[ 0.06039669  0.06172685  0.06533551 -0.06013044  0.06325299]\n",
      "[ 3.80042672  1.36675663  1.55814536  0.81827344  3.90254893]\n",
      "6.13345738541\n"
     ]
    }
   ],
   "source": [
    "N = 5\n",
    "print(removed2_g_df.loc[N])\n",
    "v = np.array(removed2_g_df.loc[N][1:-1])\n",
    "\n",
    "print(w)\n",
    "print(v)\n",
    "\n",
    "# predict\n",
    "print( (w*v).sum()*10 )"
   ]
  },
  {
   "cell_type": "code",
   "execution_count": null,
   "metadata": {
    "collapsed": true
   },
   "outputs": [],
   "source": []
  }
 ],
 "metadata": {
  "kernelspec": {
   "display_name": "Python 3",
   "language": "python",
   "name": "python3"
  },
  "language_info": {
   "codemirror_mode": {
    "name": "ipython",
    "version": 3
   },
   "file_extension": ".py",
   "mimetype": "text/x-python",
   "name": "python",
   "nbconvert_exporter": "python",
   "pygments_lexer": "ipython3",
   "version": "3.5.1"
  }
 },
 "nbformat": 4,
 "nbformat_minor": 0
}
