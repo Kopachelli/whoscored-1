{
 "cells": [
  {
   "cell_type": "markdown",
   "metadata": {},
   "source": [
    "## Recommend Better Position Who Have Multy Position Player"
   ]
  },
  {
   "cell_type": "markdown",
   "metadata": {},
   "source": [
    "### Import Package"
   ]
  },
  {
   "cell_type": "code",
   "execution_count": 1,
   "metadata": {
    "collapsed": true
   },
   "outputs": [],
   "source": [
    "%matplotlib inline\n",
    "%config InlineBackend.figure_formats = {'png', 'retina'}\n",
    "\n",
    "import numpy as np\n",
    "import seaborn as sns\n",
    "import matplotlib.pyplot as plt\n",
    "import matplotlib as mpl\n",
    "import pandas as pd\n",
    "import MySQLdb\n",
    "import os\n",
    "\n",
    "from sklearn.tree import export_graphviz\n",
    "from sklearn.datasets import load_iris\n",
    "from sklearn.cross_validation import train_test_split\n",
    "from sklearn.tree import DecisionTreeClassifier\n",
    "from sklearn.metrics import confusion_matrix\n",
    "from sklearn.metrics import classification_report"
   ]
  },
  {
   "cell_type": "markdown",
   "metadata": {},
   "source": [
    "### 1. Connect DB and Make QUERY"
   ]
  },
  {
   "cell_type": "code",
   "execution_count": 5,
   "metadata": {
    "collapsed": false
   },
   "outputs": [],
   "source": [
    "db = MySQLdb.connect(\n",
    "    os.environ.get(\"DATABASE_HOST\"),\n",
    "    os.environ.get(\"DATABASE_USERNAME\"),\n",
    "    os.environ.get(\"PASSWORD\"),\n",
    "    os.environ.get(\"DATABASE_NAME\"),\n",
    "    charset='utf8',\n",
    ")\n",
    "\n",
    "# forword feature\n",
    "# apps_sub, mins, goals, assists, yel, spg, motm, aw, tackles, inter, drb, blocks, keyp_x, fouled, unstch, avgp          \n",
    "\n",
    "# defenser feature\n",
    "# goals, assists, spg, ps_x, motm, aw, tackles, inter, fouls, clear, owng, keyp_x, fouled, unstch, avgp          \n",
    "\n",
    "# midfilder feature\n",
    "# age, apps_sub, mins, goals, assists, spg, ps_x, motm, aw, tackles, inter, keyp_x, fouled, avgp\n",
    "\n",
    "def make_query(position):\n",
    "    \"\"\"\n",
    "    \n",
    "    parameter------------\n",
    "    position : M, D, F, G\n",
    "    \n",
    "    return---------------\n",
    "    SQL_QUERY String\n",
    "    \n",
    "    \"\"\"\n",
    "    \n",
    "    SQL_QUERY = \"\"\"\n",
    "        SELECT \n",
    "            tall, weight, apps_sub, mins, goals, assists\n",
    "            , spg, ps_x, motm, aw, tackles, inter, fouls, clear, drb\n",
    "            , owng, keyp_x, fouled, off, disp, unstch, avgp\n",
    "        FROM player\n",
    "    \"\"\"\n",
    "    \n",
    "    if position == \"F\":\n",
    "        SQL_QUERY += \"\"\"\n",
    "            WHERE position not like \"%,%\" and position like \"%FW%\" and mins > 270\n",
    "        \"\"\"\n",
    "    \n",
    "    if position == \"M\":\n",
    "        SQL_QUERY += \"\"\"\n",
    "            WHERE position not like \"%,%\" and position like \"%M%\" and mins > 270\n",
    "        \"\"\"\n",
    "    \n",
    "    if position == \"D\":\n",
    "        SQL_QUERY += \"\"\"\n",
    "            WHERE position not like \"%,%\" and position like \"%D%\" and position not like \" DMC\"  and mins > 270\n",
    "        \"\"\"\n",
    "    \n",
    "    if position == \"G\":\n",
    "        SQL_QUERY += \"\"\"\n",
    "            WHERE position not like \"%,%\" and position like \"%G%\" and mins > 270\n",
    "        \"\"\"\n",
    "    \n",
    "    return SQL_QUERY"
   ]
  },
  {
   "cell_type": "markdown",
   "metadata": {},
   "source": [
    "### 2. Make Pandas DataFrame Each Position Player "
   ]
  },
  {
   "cell_type": "code",
   "execution_count": 3,
   "metadata": {
    "collapsed": false
   },
   "outputs": [
    {
     "data": {
      "text/plain": [
       "(291, 997, 817, 213)"
      ]
     },
     "execution_count": 3,
     "metadata": {},
     "output_type": "execute_result"
    }
   ],
   "source": [
    "# forword\n",
    "SQL_QUERY = make_query(\"F\")\n",
    "forword_df = pd.read_sql(SQL_QUERY, db)\n",
    "\n",
    "# midfilder\n",
    "SQL_QUERY = make_query(\"M\")\n",
    "midfilder_df = pd.read_sql(SQL_QUERY, db)\n",
    "\n",
    "# defencer\n",
    "SQL_QUERY = make_query(\"D\")\n",
    "defencer_df = pd.read_sql(SQL_QUERY, db)\n",
    "\n",
    "# goalkeeper\n",
    "SQL_QUERY = make_query(\"G\")\n",
    "goalkeeper_df = pd.read_sql(SQL_QUERY, db)\n",
    "\n",
    "len(forword_df), len(midfilder_df), len(defencer_df), len(goalkeeper_df)"
   ]
  },
  {
   "cell_type": "markdown",
   "metadata": {},
   "source": [
    "### 3. Set Position Category and Concat Each Datafream"
   ]
  },
  {
   "cell_type": "code",
   "execution_count": 4,
   "metadata": {
    "collapsed": false
   },
   "outputs": [
    {
     "data": {
      "text/html": [
       "<div>\n",
       "<table border=\"1\" class=\"dataframe\">\n",
       "  <thead>\n",
       "    <tr style=\"text-align: right;\">\n",
       "      <th></th>\n",
       "      <th>tall</th>\n",
       "      <th>weight</th>\n",
       "      <th>apps_sub</th>\n",
       "      <th>mins</th>\n",
       "      <th>goals</th>\n",
       "      <th>assists</th>\n",
       "      <th>spg</th>\n",
       "      <th>ps_x</th>\n",
       "      <th>motm</th>\n",
       "      <th>aw</th>\n",
       "      <th>...</th>\n",
       "      <th>clear</th>\n",
       "      <th>drb</th>\n",
       "      <th>owng</th>\n",
       "      <th>keyp_x</th>\n",
       "      <th>fouled</th>\n",
       "      <th>off</th>\n",
       "      <th>disp</th>\n",
       "      <th>unstch</th>\n",
       "      <th>avgp</th>\n",
       "      <th>position</th>\n",
       "    </tr>\n",
       "  </thead>\n",
       "  <tbody>\n",
       "    <tr>\n",
       "      <th>208</th>\n",
       "      <td>187</td>\n",
       "      <td>82</td>\n",
       "      <td>0</td>\n",
       "      <td>2430</td>\n",
       "      <td>0</td>\n",
       "      <td>0</td>\n",
       "      <td>0.0</td>\n",
       "      <td>59.7</td>\n",
       "      <td>0</td>\n",
       "      <td>0.5</td>\n",
       "      <td>...</td>\n",
       "      <td>1.2</td>\n",
       "      <td>0.0</td>\n",
       "      <td>0</td>\n",
       "      <td>0.0</td>\n",
       "      <td>0.3</td>\n",
       "      <td>0.0</td>\n",
       "      <td>0.0</td>\n",
       "      <td>0.1</td>\n",
       "      <td>25.5</td>\n",
       "      <td>3</td>\n",
       "    </tr>\n",
       "    <tr>\n",
       "      <th>209</th>\n",
       "      <td>198</td>\n",
       "      <td>83</td>\n",
       "      <td>2</td>\n",
       "      <td>1397</td>\n",
       "      <td>0</td>\n",
       "      <td>0</td>\n",
       "      <td>0.0</td>\n",
       "      <td>47.0</td>\n",
       "      <td>0</td>\n",
       "      <td>0.4</td>\n",
       "      <td>...</td>\n",
       "      <td>1.1</td>\n",
       "      <td>0.1</td>\n",
       "      <td>0</td>\n",
       "      <td>0.0</td>\n",
       "      <td>0.2</td>\n",
       "      <td>0.0</td>\n",
       "      <td>0.0</td>\n",
       "      <td>0.0</td>\n",
       "      <td>19.8</td>\n",
       "      <td>3</td>\n",
       "    </tr>\n",
       "    <tr>\n",
       "      <th>210</th>\n",
       "      <td>199</td>\n",
       "      <td>91</td>\n",
       "      <td>0</td>\n",
       "      <td>2020</td>\n",
       "      <td>0</td>\n",
       "      <td>0</td>\n",
       "      <td>0.0</td>\n",
       "      <td>48.2</td>\n",
       "      <td>0</td>\n",
       "      <td>0.3</td>\n",
       "      <td>...</td>\n",
       "      <td>1.1</td>\n",
       "      <td>0.0</td>\n",
       "      <td>0</td>\n",
       "      <td>0.0</td>\n",
       "      <td>0.0</td>\n",
       "      <td>0.0</td>\n",
       "      <td>0.0</td>\n",
       "      <td>0.0</td>\n",
       "      <td>22.7</td>\n",
       "      <td>3</td>\n",
       "    </tr>\n",
       "    <tr>\n",
       "      <th>211</th>\n",
       "      <td>188</td>\n",
       "      <td>78</td>\n",
       "      <td>0</td>\n",
       "      <td>2970</td>\n",
       "      <td>0</td>\n",
       "      <td>0</td>\n",
       "      <td>0.0</td>\n",
       "      <td>54.2</td>\n",
       "      <td>0</td>\n",
       "      <td>0.2</td>\n",
       "      <td>...</td>\n",
       "      <td>0.8</td>\n",
       "      <td>0.1</td>\n",
       "      <td>0</td>\n",
       "      <td>0.0</td>\n",
       "      <td>0.2</td>\n",
       "      <td>0.0</td>\n",
       "      <td>0.0</td>\n",
       "      <td>0.0</td>\n",
       "      <td>28.9</td>\n",
       "      <td>3</td>\n",
       "    </tr>\n",
       "    <tr>\n",
       "      <th>212</th>\n",
       "      <td>185</td>\n",
       "      <td>81</td>\n",
       "      <td>0</td>\n",
       "      <td>450</td>\n",
       "      <td>0</td>\n",
       "      <td>0</td>\n",
       "      <td>0.0</td>\n",
       "      <td>62.8</td>\n",
       "      <td>0</td>\n",
       "      <td>0.2</td>\n",
       "      <td>...</td>\n",
       "      <td>0.8</td>\n",
       "      <td>0.0</td>\n",
       "      <td>0</td>\n",
       "      <td>0.2</td>\n",
       "      <td>0.0</td>\n",
       "      <td>0.0</td>\n",
       "      <td>0.0</td>\n",
       "      <td>0.0</td>\n",
       "      <td>27.4</td>\n",
       "      <td>3</td>\n",
       "    </tr>\n",
       "  </tbody>\n",
       "</table>\n",
       "<p>5 rows × 23 columns</p>\n",
       "</div>"
      ],
      "text/plain": [
       "     tall  weight  apps_sub  mins  goals  assists  spg  ps_x  motm   aw  \\\n",
       "208   187      82         0  2430      0        0  0.0  59.7     0  0.5   \n",
       "209   198      83         2  1397      0        0  0.0  47.0     0  0.4   \n",
       "210   199      91         0  2020      0        0  0.0  48.2     0  0.3   \n",
       "211   188      78         0  2970      0        0  0.0  54.2     0  0.2   \n",
       "212   185      81         0   450      0        0  0.0  62.8     0  0.2   \n",
       "\n",
       "       ...     clear  drb  owng  keyp_x  fouled  off  disp  unstch  avgp  \\\n",
       "208    ...       1.2  0.0     0     0.0     0.3  0.0   0.0     0.1  25.5   \n",
       "209    ...       1.1  0.1     0     0.0     0.2  0.0   0.0     0.0  19.8   \n",
       "210    ...       1.1  0.0     0     0.0     0.0  0.0   0.0     0.0  22.7   \n",
       "211    ...       0.8  0.1     0     0.0     0.2  0.0   0.0     0.0  28.9   \n",
       "212    ...       0.8  0.0     0     0.2     0.0  0.0   0.0     0.0  27.4   \n",
       "\n",
       "     position  \n",
       "208         3  \n",
       "209         3  \n",
       "210         3  \n",
       "211         3  \n",
       "212         3  \n",
       "\n",
       "[5 rows x 23 columns]"
      ]
     },
     "execution_count": 4,
     "metadata": {},
     "output_type": "execute_result"
    }
   ],
   "source": [
    "forword_df[\"position\"] = 0\n",
    "forword_df\n",
    "\n",
    "midfilder_df[\"position\"] = 1\n",
    "midfilder_df\n",
    "\n",
    "defencer_df[\"position\"] = 2\n",
    "defencer_df\n",
    "\n",
    "goalkeeper_df[\"position\"] = 3\n",
    "goalkeeper_df\n",
    "\n",
    "concated_df = pd.concat([forword_df, midfilder_df, defencer_df, goalkeeper_df])\n",
    "concated_df.tail()"
   ]
  },
  {
   "cell_type": "markdown",
   "metadata": {},
   "source": [
    "### 4. Make Training and Test Data "
   ]
  },
  {
   "cell_type": "code",
   "execution_count": 5,
   "metadata": {
    "collapsed": true
   },
   "outputs": [],
   "source": [
    "X_train, X_test, y_train, y_test = train_test_split(concated_df.ix[:,:-1], concated_df.ix[:,-1], test_size=0.2, random_state=1)"
   ]
  },
  {
   "cell_type": "markdown",
   "metadata": {},
   "source": [
    "### 5-1. Make Decision Tree Classifier Model (entropy)"
   ]
  },
  {
   "cell_type": "code",
   "execution_count": 14,
   "metadata": {
    "collapsed": true
   },
   "outputs": [],
   "source": [
    "model = DecisionTreeClassifier(criterion='entropy', max_depth=3).fit(X_train, y_train)"
   ]
  },
  {
   "cell_type": "code",
   "execution_count": 7,
   "metadata": {
    "collapsed": false
   },
   "outputs": [
    {
     "data": {
      "text/plain": [
       "array([[ 50,   1,   0,   1],\n",
       "       [ 41, 163,  16,   0],\n",
       "       [  0,  20, 138,   0],\n",
       "       [  0,   0,   0,  34]])"
      ]
     },
     "execution_count": 7,
     "metadata": {},
     "output_type": "execute_result"
    }
   ],
   "source": [
    "confusion_matrix(y_test, model.predict(X_test))"
   ]
  },
  {
   "cell_type": "code",
   "execution_count": 8,
   "metadata": {
    "collapsed": false
   },
   "outputs": [
    {
     "name": "stdout",
     "output_type": "stream",
     "text": [
      "             precision    recall  f1-score   support\n",
      "\n",
      "          0       0.55      0.96      0.70        52\n",
      "          1       0.89      0.74      0.81       220\n",
      "          2       0.90      0.87      0.88       158\n",
      "          3       0.97      1.00      0.99        34\n",
      "\n",
      "avg / total       0.86      0.83      0.83       464\n",
      "\n"
     ]
    }
   ],
   "source": [
    "print(classification_report(y_test, model.predict(X_test)))"
   ]
  },
  {
   "cell_type": "markdown",
   "metadata": {},
   "source": [
    "### 5-2. Make Decision Tree Classifier Model (gini)"
   ]
  },
  {
   "cell_type": "code",
   "execution_count": 15,
   "metadata": {
    "collapsed": true
   },
   "outputs": [],
   "source": [
    "model1 = DecisionTreeClassifier(criterion='gini', max_depth=3).fit(X_train, y_train)"
   ]
  },
  {
   "cell_type": "code",
   "execution_count": 16,
   "metadata": {
    "collapsed": false
   },
   "outputs": [
    {
     "data": {
      "text/plain": [
       "array([[ 46,   5,   1,   0],\n",
       "       [ 33, 175,  12,   0],\n",
       "       [  0,  23, 134,   1],\n",
       "       [  0,   0,   0,  34]])"
      ]
     },
     "execution_count": 16,
     "metadata": {},
     "output_type": "execute_result"
    }
   ],
   "source": [
    "confusion_matrix(y_test, model1.predict(X_test))"
   ]
  },
  {
   "cell_type": "code",
   "execution_count": 17,
   "metadata": {
    "collapsed": false
   },
   "outputs": [
    {
     "name": "stdout",
     "output_type": "stream",
     "text": [
      "             precision    recall  f1-score   support\n",
      "\n",
      "          0       0.58      0.88      0.70        52\n",
      "          1       0.86      0.80      0.83       220\n",
      "          2       0.91      0.85      0.88       158\n",
      "          3       0.97      1.00      0.99        34\n",
      "\n",
      "avg / total       0.86      0.84      0.84       464\n",
      "\n"
     ]
    }
   ],
   "source": [
    "print(classification_report(y_test, model1.predict(X_test)))"
   ]
  },
  {
   "cell_type": "markdown",
   "metadata": {},
   "source": [
    "### 5-3. Make Naive Baysian Classifier Model"
   ]
  },
  {
   "cell_type": "code",
   "execution_count": 18,
   "metadata": {
    "collapsed": true
   },
   "outputs": [],
   "source": [
    "from sklearn.naive_bayes import GaussianNB\n",
    "model2 = GaussianNB().fit(X_train, y_train)"
   ]
  },
  {
   "cell_type": "code",
   "execution_count": 24,
   "metadata": {
    "collapsed": false
   },
   "outputs": [
    {
     "name": "stdout",
     "output_type": "stream",
     "text": [
      "             precision    recall  f1-score   support\n",
      "\n",
      "          0       0.68      0.96      0.80        52\n",
      "          1       0.91      0.76      0.83       220\n",
      "          2       0.82      0.90      0.86       158\n",
      "          3       1.00      1.00      1.00        34\n",
      "\n",
      "avg / total       0.86      0.85      0.85       464\n",
      "\n"
     ]
    }
   ],
   "source": [
    "print(classification_report(y_test, model2.predict(X_test)))"
   ]
  },
  {
   "cell_type": "markdown",
   "metadata": {},
   "source": [
    "### 5-4. Make Ensemble Classifier Model "
   ]
  },
  {
   "cell_type": "code",
   "execution_count": 22,
   "metadata": {
    "collapsed": true
   },
   "outputs": [],
   "source": [
    "from sklearn.ensemble import VotingClassifier"
   ]
  },
  {
   "cell_type": "code",
   "execution_count": 29,
   "metadata": {
    "collapsed": false
   },
   "outputs": [],
   "source": [
    "clf1 = DecisionTreeClassifier(criterion='entropy', max_depth=3)\n",
    "clf2 = DecisionTreeClassifier(criterion='gini', max_depth=3)\n",
    "clf3 = GaussianNB()\n",
    "eclf = VotingClassifier(estimators=[('entropy', clf1), ('gini', clf2), ('naive', clf3)], voting='soft', weights=[2, 1, 1])\n",
    "eclf1 = eclf.fit(X_train, y_train)"
   ]
  },
  {
   "cell_type": "code",
   "execution_count": 30,
   "metadata": {
    "collapsed": false
   },
   "outputs": [
    {
     "name": "stdout",
     "output_type": "stream",
     "text": [
      "             precision    recall  f1-score   support\n",
      "\n",
      "          0       0.69      0.94      0.80        52\n",
      "          1       0.89      0.83      0.86       220\n",
      "          2       0.90      0.87      0.88       158\n",
      "          3       1.00      1.00      1.00        34\n",
      "\n",
      "avg / total       0.88      0.87      0.87       464\n",
      "\n"
     ]
    }
   ],
   "source": [
    "print(classification_report(y_test, eclf1.predict(X_test)))"
   ]
  },
  {
   "cell_type": "markdown",
   "metadata": {},
   "source": [
    "### 6. Recommend Position"
   ]
  },
  {
   "cell_type": "code",
   "execution_count": 36,
   "metadata": {
    "collapsed": false
   },
   "outputs": [
    {
     "data": {
      "text/plain": [
       "586"
      ]
     },
     "execution_count": 36,
     "metadata": {},
     "output_type": "execute_result"
    }
   ],
   "source": [
    "SQL_QUERY = \"\"\"\n",
    "    SELECT \n",
    "        tall, weight, apps_sub, mins, goals, assists\n",
    "        , spg, ps_x, motm, aw, tackles, inter, fouls, clear, drb\n",
    "        , owng, keyp_x, fouled, off, disp, unstch, avgp, position\n",
    "    FROM player\n",
    "    WHERE position like \"%,%\" and mins > 270\n",
    "    ;\n",
    "\"\"\"\n",
    "\n",
    "many_position_player_df = pd.read_sql(SQL_QUERY, db)\n",
    "len(many_position_player_df)"
   ]
  },
  {
   "cell_type": "code",
   "execution_count": 37,
   "metadata": {
    "collapsed": false
   },
   "outputs": [],
   "source": [
    "predict_data = eclf1.predict(many_position_player_df.ix[:,:-1])\n",
    "many_position_player_df[\"recomend_position\"] = predict_data"
   ]
  },
  {
   "cell_type": "code",
   "execution_count": 38,
   "metadata": {
    "collapsed": false
   },
   "outputs": [
    {
     "data": {
      "text/html": [
       "<div>\n",
       "<table border=\"1\" class=\"dataframe\">\n",
       "  <thead>\n",
       "    <tr style=\"text-align: right;\">\n",
       "      <th></th>\n",
       "      <th>position</th>\n",
       "      <th>recomend_position</th>\n",
       "    </tr>\n",
       "  </thead>\n",
       "  <tbody>\n",
       "    <tr>\n",
       "      <th>0</th>\n",
       "      <td>M(CLR),FW</td>\n",
       "      <td>1</td>\n",
       "    </tr>\n",
       "    <tr>\n",
       "      <th>1</th>\n",
       "      <td>D(C),DMC</td>\n",
       "      <td>1</td>\n",
       "    </tr>\n",
       "    <tr>\n",
       "      <th>2</th>\n",
       "      <td>D(LR),M(CR)</td>\n",
       "      <td>2</td>\n",
       "    </tr>\n",
       "    <tr>\n",
       "      <th>3</th>\n",
       "      <td>D(L),M(L)</td>\n",
       "      <td>1</td>\n",
       "    </tr>\n",
       "    <tr>\n",
       "      <th>4</th>\n",
       "      <td>D(C),M(C)</td>\n",
       "      <td>2</td>\n",
       "    </tr>\n",
       "    <tr>\n",
       "      <th>5</th>\n",
       "      <td>D(C),M(C)</td>\n",
       "      <td>1</td>\n",
       "    </tr>\n",
       "    <tr>\n",
       "      <th>6</th>\n",
       "      <td>AM(L),FW</td>\n",
       "      <td>0</td>\n",
       "    </tr>\n",
       "    <tr>\n",
       "      <th>7</th>\n",
       "      <td>AM(CLR),FW</td>\n",
       "      <td>1</td>\n",
       "    </tr>\n",
       "    <tr>\n",
       "      <th>8</th>\n",
       "      <td>D(C),M(CLR)</td>\n",
       "      <td>1</td>\n",
       "    </tr>\n",
       "    <tr>\n",
       "      <th>9</th>\n",
       "      <td>AM(CR),FW</td>\n",
       "      <td>0</td>\n",
       "    </tr>\n",
       "    <tr>\n",
       "      <th>10</th>\n",
       "      <td>AM(CLR),FW</td>\n",
       "      <td>0</td>\n",
       "    </tr>\n",
       "  </tbody>\n",
       "</table>\n",
       "</div>"
      ],
      "text/plain": [
       "        position  recomend_position\n",
       "0      M(CLR),FW                  1\n",
       "1       D(C),DMC                  1\n",
       "2    D(LR),M(CR)                  2\n",
       "3      D(L),M(L)                  1\n",
       "4      D(C),M(C)                  2\n",
       "5      D(C),M(C)                  1\n",
       "6       AM(L),FW                  0\n",
       "7     AM(CLR),FW                  1\n",
       "8    D(C),M(CLR)                  1\n",
       "9      AM(CR),FW                  0\n",
       "10    AM(CLR),FW                  0"
      ]
     },
     "execution_count": 38,
     "metadata": {},
     "output_type": "execute_result"
    }
   ],
   "source": [
    "# Recomend Result\n",
    "# 0 : Forword, 1 : Midfilder, 2 : Defencer, 3 : Goalkeeper\n",
    "many_position_player_df.ix[:10,-2:]"
   ]
  },
  {
   "cell_type": "code",
   "execution_count": null,
   "metadata": {
    "collapsed": true
   },
   "outputs": [],
   "source": []
  }
 ],
 "metadata": {
  "kernelspec": {
   "display_name": "Python 3",
   "language": "python",
   "name": "python3"
  },
  "language_info": {
   "codemirror_mode": {
    "name": "ipython",
    "version": 3
   },
   "file_extension": ".py",
   "mimetype": "text/x-python",
   "name": "python",
   "nbconvert_exporter": "python",
   "pygments_lexer": "ipython3",
   "version": "3.5.1"
  }
 },
 "nbformat": 4,
 "nbformat_minor": 0
}
